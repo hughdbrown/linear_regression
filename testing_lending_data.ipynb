{
 "cells": [
  {
   "cell_type": "code",
   "execution_count": 58,
   "metadata": {
    "collapsed": true
   },
   "outputs": [],
   "source": [
    "#!/usr/bin/env python\n",
    "from __future__ import print_function, division\n",
    "\n",
    "from operator import itemgetter\n",
    "\n",
    "import pandas as pd\n",
    "import numpy as np\n",
    "\n",
    "\n",
    "# URL = 'https://spark-public.s3.amazonaws.com/dataanalysis/loansData.csv'\n",
    "URL = 'loansData.csv'\n",
    "\n",
    "\n",
    "def load_data():\n",
    "    return pd.read_csv(URL, dtype={'Interest.Rate': np.str, 'Loan.Length': np.str})\n",
    "\n",
    "\n",
    "def clean_data(df):\n",
    "    df['Interest.Rate'] = df['Interest.Rate'].str.replace('%', '').astype('float') / 100.0\n",
    "    df['Loan.Length'] = df['Loan.Length'].str.replace(' months', '').astype('int')\n",
    "    df['FICO.Score'] = df['FICO.Range'].str.split('-').apply(itemgetter(0)).astype('int')\n",
    "\n",
    "\n",
    "def plot_data(loansData):\n",
    "    plt.figure()\n",
    "    p = loansData['FICO.Score'].hist(bins=20)\n",
    "    plt.show()\n",
    "\n",
    "\n",
    "def main():\n",
    "    loansData = load_data()\n",
    "    clean_data(loansData)\n",
    "    plot_data(loansData)\n"
   ]
  },
  {
   "cell_type": "code",
   "execution_count": 59,
   "metadata": {
    "collapsed": false
   },
   "outputs": [
    {
     "name": "stdout",
     "output_type": "stream",
     "text": [
      "       Amount.Requested  Amount.Funded.By.Investors  Interest.Rate  \\\n",
      "81174             20000                       20000         0.0890   \n",
      "99592             19200                       19200         0.1212   \n",
      "80059             35000                       35000         0.2198   \n",
      "15825             10000                        9975         0.0999   \n",
      "33182             12000                       12000         0.1171   \n",
      "\n",
      "       Loan.Length        Loan.Purpose Debt.To.Income.Ratio State  \\\n",
      "81174           36  debt_consolidation               14.90%    SC   \n",
      "99592           36  debt_consolidation               28.36%    TX   \n",
      "80059           60  debt_consolidation               23.81%    CA   \n",
      "15825           36  debt_consolidation               14.30%    KS   \n",
      "33182           36         credit_card               18.78%    NJ   \n",
      "\n",
      "      Home.Ownership  Monthly.Income FICO.Range  Open.CREDIT.Lines  \\\n",
      "81174       MORTGAGE         6541.67    735-739                 14   \n",
      "99592       MORTGAGE         4583.33    715-719                 12   \n",
      "80059       MORTGAGE        11500.00    690-694                 14   \n",
      "15825       MORTGAGE         3833.33    695-699                 10   \n",
      "33182           RENT         3195.00    695-699                 11   \n",
      "\n",
      "       Revolving.CREDIT.Balance  Inquiries.in.the.Last.6.Months  \\\n",
      "81174                     14272                               2   \n",
      "99592                     11140                               1   \n",
      "80059                     21977                               1   \n",
      "15825                      9346                               0   \n",
      "33182                     14469                               0   \n",
      "\n",
      "      Employment.Length  FICO.Score  \n",
      "81174          < 1 year         735  \n",
      "99592           2 years         715  \n",
      "80059           2 years         690  \n",
      "15825           5 years         695  \n",
      "33182           9 years         695  \n"
     ]
    }
   ],
   "source": [
    "main()"
   ]
  }
 ],
 "metadata": {
  "kernelspec": {
   "display_name": "Python 2",
   "language": "python",
   "name": "python2"
  },
  "language_info": {
   "codemirror_mode": {
    "name": "ipython",
    "version": 2
   },
   "file_extension": ".py",
   "mimetype": "text/x-python",
   "name": "python",
   "nbconvert_exporter": "python",
   "pygments_lexer": "ipython2",
   "version": "2.7.8"
  }
 },
 "nbformat": 4,
 "nbformat_minor": 0
}
